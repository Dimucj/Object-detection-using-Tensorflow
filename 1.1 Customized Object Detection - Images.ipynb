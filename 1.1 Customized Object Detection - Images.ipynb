{
 "cells": [
  {
   "cell_type": "code",
   "execution_count": 1,
   "metadata": {},
   "outputs": [
    {
     "name": "stderr",
     "output_type": "stream",
     "text": [
      "Cloning into 'models'...\n",
      "Updating files:  33% (1064/3146)\n",
      "Updating files:  34% (1070/3146)\n",
      "Updating files:  35% (1102/3146)\n",
      "Updating files:  36% (1133/3146)\n",
      "Updating files:  37% (1165/3146)\n",
      "Updating files:  38% (1196/3146)\n",
      "Updating files:  39% (1227/3146)\n",
      "Updating files:  40% (1259/3146)\n",
      "Updating files:  41% (1290/3146)\n",
      "Updating files:  42% (1322/3146)\n",
      "Updating files:  43% (1353/3146)\n",
      "Updating files:  44% (1385/3146)\n",
      "Updating files:  45% (1416/3146)\n",
      "Updating files:  46% (1448/3146)\n",
      "Updating files:  47% (1479/3146)\n",
      "Updating files:  48% (1511/3146)\n",
      "Updating files:  49% (1542/3146)\n",
      "Updating files:  50% (1573/3146)\n",
      "Updating files:  51% (1605/3146)\n",
      "Updating files:  52% (1636/3146)\n",
      "Updating files:  53% (1668/3146)\n",
      "Updating files:  54% (1699/3146)\n",
      "Updating files:  55% (1731/3146)\n",
      "Updating files:  56% (1762/3146)\n",
      "Updating files:  57% (1794/3146)\n",
      "Updating files:  58% (1825/3146)\n",
      "Updating files:  59% (1857/3146)\n",
      "Updating files:  60% (1888/3146)\n",
      "Updating files:  61% (1920/3146)\n",
      "Updating files:  62% (1951/3146)\n",
      "Updating files:  63% (1982/3146)\n",
      "Updating files:  64% (2014/3146)\n",
      "Updating files:  65% (2045/3146)\n",
      "Updating files:  66% (2077/3146)\n",
      "Updating files:  66% (2080/3146)\n",
      "Updating files:  67% (2108/3146)\n",
      "Updating files:  68% (2140/3146)\n",
      "Updating files:  69% (2171/3146)\n",
      "Updating files:  70% (2203/3146)\n",
      "Updating files:  71% (2234/3146)\n",
      "Updating files:  72% (2266/3146)\n",
      "Updating files:  73% (2297/3146)\n",
      "Updating files:  74% (2329/3146)\n",
      "Updating files:  75% (2360/3146)\n",
      "Updating files:  76% (2391/3146)\n",
      "Updating files:  77% (2423/3146)\n",
      "Updating files:  78% (2454/3146)\n",
      "Updating files:  79% (2486/3146)\n",
      "Updating files:  80% (2517/3146)\n",
      "Updating files:  81% (2549/3146)\n",
      "Updating files:  82% (2580/3146)\n",
      "Updating files:  83% (2612/3146)\n",
      "Updating files:  84% (2643/3146)\n",
      "Updating files:  85% (2675/3146)\n",
      "Updating files:  86% (2706/3146)\n",
      "Updating files:  87% (2738/3146)\n",
      "Updating files:  88% (2769/3146)\n",
      "Updating files:  88% (2780/3146)\n",
      "Updating files:  89% (2800/3146)\n",
      "Updating files:  90% (2832/3146)\n",
      "Updating files:  91% (2863/3146)\n",
      "Updating files:  92% (2895/3146)\n",
      "Updating files:  93% (2926/3146)\n",
      "Updating files:  94% (2958/3146)\n",
      "Updating files:  95% (2989/3146)\n",
      "Updating files:  96% (3021/3146)\n",
      "Updating files:  97% (3052/3146)\n",
      "Updating files:  98% (3084/3146)\n",
      "Updating files:  99% (3115/3146)\n",
      "Updating files: 100% (3146/3146)\n",
      "Updating files: 100% (3146/3146), done.\n"
     ]
    }
   ],
   "source": [
    "import os\n",
    "import pathlib\n",
    "\n",
    "\n",
    "if \"models\" in pathlib.Path.cwd().parts:\n",
    "  while \"models\" in pathlib.Path.cwd().parts:\n",
    "    os.chdir('..')\n",
    "elif not pathlib.Path('models').exists():\n",
    "  !git clone --depth 1 https://github.com/tensorflow/models"
   ]
  },
  {
   "cell_type": "code",
   "execution_count": 4,
   "metadata": {},
   "outputs": [],
   "source": [
    "import numpy as np\n",
    "import os\n",
    "import six.moves.urllib as urllib\n",
    "import sys\n",
    "import tarfile\n",
    "import tensorflow as tf\n",
    "import zipfile\n",
    "import pathlib\n",
    "\n",
    "from collections import defaultdict\n",
    "from io import StringIO\n",
    "from matplotlib import pyplot as plt\n",
    "from PIL import Image\n",
    "from IPython.display import display\n",
    "\n",
    "from object_detection.utils import ops as utils_ops\n",
    "from object_detection.utils import label_map_util\n",
    "from object_detection.utils import visualization_utils as vis_util"
   ]
  },
  {
   "cell_type": "code",
   "execution_count": 6,
   "metadata": {},
   "outputs": [],
   "source": [
    "# patch tf1 into `utils.ops`\n",
    "utils_ops.tf = tf.compat.v1\n",
    "\n",
    "# Patch the location of gfile\n",
    "tf.gfile = tf.io.gfile"
   ]
  },
  {
   "cell_type": "code",
   "execution_count": 7,
   "metadata": {},
   "outputs": [],
   "source": [
    "def load_model(model_name):\n",
    "  base_url = 'http://download.tensorflow.org/models/object_detection/'\n",
    "  model_file = model_name + '.tar.gz'\n",
    "  model_dir = tf.keras.utils.get_file(\n",
    "    fname=model_name, \n",
    "    origin=base_url + model_file,\n",
    "    untar=True)\n",
    "\n",
    "  model_dir = pathlib.Path(model_dir)/\"saved_model\"\n",
    "\n",
    "  model = tf.saved_model.load(str(model_dir))\n",
    "  model = model.signatures['serving_default']\n",
    "\n",
    "  return model"
   ]
  },
  {
   "cell_type": "code",
   "execution_count": 8,
   "metadata": {},
   "outputs": [],
   "source": [
    "# List of the strings that is used to add correct label for each box.\n",
    "PATH_TO_LABELS = 'object_detection/data/mscoco_label_map.pbtxt'\n",
    "category_index = label_map_util.create_category_index_from_labelmap(PATH_TO_LABELS, use_display_name=True)"
   ]
  },
  {
   "cell_type": "code",
   "execution_count": 9,
   "metadata": {},
   "outputs": [
    {
     "name": "stdout",
     "output_type": "stream",
     "text": [
      "Downloading data from http://download.tensorflow.org/models/object_detection/ssd_mobilenet_v1_coco_2017_11_17.tar.gz\n",
      "76537856/76534733 [==============================] - 14s 0us/step\n",
      "76546048/76534733 [==============================] - 14s 0us/step\n",
      "INFO:tensorflow:Saver not created because there are no variables in the graph to restore\n"
     ]
    }
   ],
   "source": [
    "model_name = 'ssd_mobilenet_v1_coco_2017_11_17'\n",
    "detection_model = load_model(model_name)"
   ]
  },
  {
   "cell_type": "code",
   "execution_count": 10,
   "metadata": {},
   "outputs": [],
   "source": [
    "def run_inference_for_single_image(model, image):\n",
    "  image = np.asarray(image)\n",
    "  # The input needs to be a tensor, convert it using `tf.convert_to_tensor`.\n",
    "  input_tensor = tf.convert_to_tensor(image)\n",
    "  # The model expects a batch of images, so add an axis with `tf.newaxis`.\n",
    "  input_tensor = input_tensor[tf.newaxis,...]\n",
    "\n",
    "  # Run inference\n",
    "  output_dict = model(input_tensor)\n",
    "\n",
    "  # All outputs are batches tensors.\n",
    "  # Convert to numpy arrays, and take index [0] to remove the batch dimension.\n",
    "  # We're only interested in the first num_detections.\n",
    "  num_detections = int(output_dict.pop('num_detections'))\n",
    "  output_dict = {key:value[0, :num_detections].numpy() \n",
    "                 for key,value in output_dict.items()}\n",
    "  output_dict['num_detections'] = num_detections\n",
    "\n",
    "  # detection_classes should be ints.\n",
    "  output_dict['detection_classes'] = output_dict['detection_classes'].astype(np.int64)\n",
    "   \n",
    "  # Handle models with masks:\n",
    "  if 'detection_masks' in output_dict:\n",
    "    # Reframe the the bbox mask to the image size.\n",
    "    detection_masks_reframed = utils_ops.reframe_box_masks_to_image_masks(\n",
    "              output_dict['detection_masks'], output_dict['detection_boxes'],\n",
    "               image.shape[0], image.shape[1])      \n",
    "    detection_masks_reframed = tf.cast(detection_masks_reframed > 0.5,\n",
    "                                       tf.uint8)\n",
    "    output_dict['detection_masks_reframed'] = detection_masks_reframed.numpy()\n",
    "    \n",
    "  return output_dict"
   ]
  },
  {
   "cell_type": "code",
   "execution_count": 11,
   "metadata": {},
   "outputs": [],
   "source": [
    "def show_inference(model, image_path):\n",
    "  # the array based representation of the image will be used later in order to prepare the\n",
    "  # result image with boxes and labels on it.\n",
    "  image_np = image_path\n",
    "  image_np=cv2.cvtColor(image_np,cv2.COLOR_BGR2RGB)\n",
    "  # Actual detection.\n",
    "  output_dict = run_inference_for_single_image(model, image_np)\n",
    "  # Visualization of the results of a detection.\n",
    "  vis_util.visualize_boxes_and_labels_on_image_array(\n",
    "      image_np,\n",
    "      output_dict['detection_boxes'],\n",
    "      output_dict['detection_classes'],\n",
    "      output_dict['detection_scores'],\n",
    "      category_index,\n",
    "      instance_masks=output_dict.get('detection_masks_reframed', None),\n",
    "      use_normalized_coordinates=True,\n",
    "      line_thickness=2)\n",
    "  \n",
    "  image_np=cv2.cvtColor(image_np,cv2.COLOR_BGR2RGB)\n",
    "  return image_np"
   ]
  },
  {
   "cell_type": "code",
   "execution_count": 13,
   "metadata": {},
   "outputs": [],
   "source": [
    "import cv2\n",
    "\n",
    "img=cv2.imread(r'C:\\Users\\user\\Downloads\\models-master\\crosswalk-featured.jpg')\n",
    "img=show_inference(detection_model,img)\n",
    "cv2.imshow('IMG',img)\n",
    "cv2.waitKey(0)\n",
    "cv2.destroyAllWindows()"
   ]
  },
  {
   "cell_type": "code",
   "execution_count": null,
   "metadata": {},
   "outputs": [],
   "source": []
  }
 ],
 "metadata": {
  "kernelspec": {
   "display_name": "Python 3 (ipykernel)",
   "language": "python",
   "name": "python3"
  },
  "language_info": {
   "codemirror_mode": {
    "name": "ipython",
    "version": 3
   },
   "file_extension": ".py",
   "mimetype": "text/x-python",
   "name": "python",
   "nbconvert_exporter": "python",
   "pygments_lexer": "ipython3",
   "version": "3.9.7"
  }
 },
 "nbformat": 4,
 "nbformat_minor": 2
}
